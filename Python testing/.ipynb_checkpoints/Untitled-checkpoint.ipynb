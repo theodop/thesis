{
 "cells": [
  {
   "cell_type": "code",
   "execution_count": 46,
   "id": "38257804",
   "metadata": {},
   "outputs": [],
   "source": [
    "import cv2\n",
    "import numpy\n",
    "from matplotlib import pyplot as plt \n",
    "\n",
    "def hole_filling_filter(mat: numpy.ndarray):\n",
    "    for y in range(mat.shape[0]):\n",
    "        for x in range(mat.shape[1]-2, -1, -1):\n",
    "            if mat[y,x] == 0:\n",
    "                mat[y,x] = mat[y,x+1]\n",
    "    \n",
    "    return mat\n",
    "\n",
    "w = 424\n",
    "h = 240\n",
    "pov = 84\n",
    "\n",
    "delay_per_mm = 0.25\n",
    "\n",
    "maxdepth = 5000\n",
    "\n",
    "array = numpy.fromfile(\"C:\\\\Users\\\\theod\\\\source\\\\repos\\\\thesis\\\\r-tests\\\\hallway1_Depth.raw\", numpy.int16)\n",
    "array = numpy.reshape(array, [h, w])\n",
    "array[array>maxdepth] = maxdepth\n",
    "array = cv2.medianBlur(array, 5)\n",
    "array = hole_filling_filter(array)"
   ]
  },
  {
   "cell_type": "code",
   "execution_count": 49,
   "id": "54be6e01",
   "metadata": {},
   "outputs": [
    {
     "data": {
      "image/png": "[encoded data removed]",
      "text/plain": [
       "<Figure size 432x288 with 1 Axes>"
      ]
     },
     "metadata": {
      "needs_background": "light"
     },
     "output_type": "display_data"
    }
   ],
   "source": [
    "midrow = array[int(h/2)]\n",
    "\n",
    "thetas = numpy.linspace(-pov/2, pov/2, w)\n",
    "rads = thetas * numpy.pi / 180\n",
    "\n",
    "x = numpy.sin(rads) * midrow\n",
    "y = numpy.cos(rads) * midrow\n",
    "\n",
    "plt.plot(x,y)\n",
    "plt.show()"
   ]
  },
  {
   "cell_type": "code",
   "execution_count": 51,
   "id": "366c51bb",
   "metadata": {},
   "outputs": [
    {
     "data": {
      "text/plain": [
       "array([ 286.5 ,  286.5 ,  286.5 ,  286.5 ,  286.5 ,  286.5 ,  286.5 ,\n",
       "        286.5 ,  286.5 ,  286.5 ,  286.5 ,  286.5 ,  286.5 ,  286.5 ,\n",
       "        286.5 ,  286.5 ,  286.5 ,  291.75,  294.25,  294.75,  295.75,\n",
       "        296.75,  298.  ,  299.25,  300.5 ,  302.  ,  303.5 ,  305.25,\n",
       "        307.  ,  309.  ,  311.  ,  313.  ,  315.  ,  317.  ,  319.25,\n",
       "        321.25,  323.5 ,  325.75,  327.75,  330.  ,  332.  ,  334.25,\n",
       "        336.25,  338.5 ,  340.75,  343.25,  346.  ,  348.75,  351.5 ,\n",
       "        354.75,  358.  ,  361.5 ,  365.5 ,  369.25,  372.75,  376.5 ,\n",
       "        379.75,  383.  ,  385.5 ,  387.75,  390.  ,  392.  ,  394.25,\n",
       "        396.75,  399.25,  401.75,  404.5 ,  407.25,  410.25,  413.25,\n",
       "        416.5 ,  419.75,  423.75,  428.  ,  432.75,  437.75,  442.75,\n",
       "        447.75,  452.75,  457.25,  462.  ,  466.5 ,  470.75,  474.75,\n",
       "        478.5 ,  482.25,  486.  ,  490.  ,  494.25,  499.  ,  504.  ,\n",
       "        509.5 ,  515.  ,  520.5 ,  526.25,  535.75,  544.75,  552.5 ,\n",
       "        561.75,  574.5 ,  583.5 ,  592.  ,  600.  ,  607.5 ,  615.25,\n",
       "        623.25,  631.5 ,  639.25,  647.75,  656.5 ,  665.75,  674.75,\n",
       "        683.  ,  690.75,  699.  ,  708.  ,  715.  ,  721.5 ,  730.  ,\n",
       "        739.25,  749.75,  760.75,  771.75,  783.75,  796.  ,  808.75,\n",
       "        822.  ,  836.  ,  851.25,  866.5 ,  882.25,  898.5 ,  914.75,\n",
       "        931.  ,  947.5 ,  964.75,  984.75, 1007.5 , 1033.  , 1061.25,\n",
       "       1091.  , 1122.25, 1154.5 , 1189.  , 1224.  , 1250.  , 1250.  ,\n",
       "       1250.  , 1250.  , 1250.  , 1250.  , 1250.  , 1250.  , 1250.  ,\n",
       "       1250.  , 1250.  , 1250.  , 1250.  , 1250.  , 1250.  , 1250.  ,\n",
       "       1250.  , 1250.  , 1250.  , 1250.  , 1250.  , 1250.  , 1250.  ,\n",
       "       1250.  , 1250.  , 1250.  , 1250.  , 1250.  , 1250.  , 1250.  ,\n",
       "       1250.  , 1250.  , 1250.  , 1250.  , 1250.  , 1250.  , 1250.  ,\n",
       "       1250.  , 1250.  , 1250.  , 1250.  , 1250.  , 1250.  , 1250.  ,\n",
       "       1250.  , 1250.  , 1250.  , 1250.  , 1250.  , 1250.  , 1250.  ,\n",
       "       1250.  , 1250.  , 1237.5 , 1103.75, 1004.  ,  946.25,  897.25,\n",
       "        854.5 ,  817.75,  787.5 ,  765.25,  749.75,  739.75,  734.25,\n",
       "        721.75,  520.5 ,  465.5 ,  459.75,  454.75,  449.25,  444.25,\n",
       "        439.  ,  434.5 ,  432.25,  425.5 ,  408.75,  403.75,  378.25,\n",
       "        331.5 ,  319.25,  296.  ,  291.25,  279.75,  278.5 ,  275.75,\n",
       "        270.5 ,  268.75,  260.75,  257.5 ,  253.75,  251.5 ,  246.  ,\n",
       "        245.25,  244.75,  244.5 ,  244.5 ,  244.5 ,  244.5 ,  244.5 ,\n",
       "        244.75,  245.  ,  245.25,  245.5 ,  245.5 ,  245.5 ,  245.5 ,\n",
       "        245.5 ,  245.75,  245.75,  246.  ,  246.  ,  246.25,  246.5 ,\n",
       "        246.5 ,  246.75,  246.75,  246.75,  247.  ,  247.  ,  247.25,\n",
       "        247.5 ,  247.75,  248.25,  248.75,  249.25,  249.5 ,  250.  ,\n",
       "        250.25,  250.5 ,  250.75,  250.75,  251.  ,  251.  ,  251.  ,\n",
       "        251.  ,  251.25,  251.25,  251.25,  251.  ,  251.  ,  250.75,\n",
       "        250.75,  250.75,  250.75,  250.75,  251.  ,  251.  ,  251.25,\n",
       "        251.5 ,  251.75,  251.75,  252.  ,  252.  ,  252.  ,  252.  ,\n",
       "        252.  ,  252.25,  252.25,  252.25,  252.5 ,  252.75,  252.75,\n",
       "        253.  ,  253.  ,  253.  ,  253.  ,  253.  ,  253.25,  253.25,\n",
       "        253.5 ,  253.5 ,  253.75,  253.75,  254.  ,  254.  ,  254.  ,\n",
       "        254.25,  254.25,  254.25,  254.25,  254.25,  254.5 ,  254.5 ,\n",
       "        254.75,  254.75,  254.5 ,  254.5 ,  254.25,  253.75,  253.  ,\n",
       "        252.5 ,  251.75,  251.5 ,  251.  ,  250.5 ,  250.  ,  249.75,\n",
       "        249.5 ,  249.25,  249.  ,  249.  ,  249.  ,  249.  ,  249.  ,\n",
       "        249.  ,  249.25,  249.25,  249.5 ,  249.75,  249.75,  250.  ,\n",
       "        250.  ,  250.  ,  250.25,  250.25,  250.25,  250.5 ,  250.75,\n",
       "        250.75,  251.  ,  251.  ,  251.25,  251.25,  251.5 ,  251.75,\n",
       "        251.75,  252.  ,  252.25,  252.25,  252.5 ,  252.75,  252.75,\n",
       "        253.  ,  253.25,  253.25,  253.5 ,  253.75,  253.75,  254.  ,\n",
       "        254.25,  254.25,  254.25,  254.5 ,  254.5 ,  254.75,  254.75,\n",
       "        255.  ,  255.  ,  255.25,  255.5 ,  255.5 ,  255.75,  256.  ,\n",
       "        256.25,  256.25,  256.5 ,  256.75,  257.  ,  257.25,  257.5 ,\n",
       "        257.75,  258.  ,  258.25,  258.5 ,  258.75,  259.  ,  259.25,\n",
       "        259.5 ,  259.75,  260.  ,  260.5 ,  260.75,  261.  ,  261.25,\n",
       "        261.5 ,  261.5 ,  261.5 ,  261.75])"
      ]
     },
     "execution_count": 51,
     "metadata": {},
     "output_type": "execute_result"
    }
   ],
   "source": [
    "delays = midrow*delay_per_mm\n",
    "left_power = numpy.sqrt(2)/2*(numpy.cos(rads/2) - numpy.sin(rads/2))"
   ]
  }
 ],
 "metadata": {
  "kernelspec": {
   "display_name": "Python 3 (ipykernel)",
   "language": "python",
   "name": "python3"
  },
  "language_info": {
   "codemirror_mode": {
    "name": "ipython",
    "version": 3
   },
   "file_extension": ".py",
   "mimetype": "text/x-python",
   "name": "python",
   "nbconvert_exporter": "python",
   "pygments_lexer": "ipython3",
   "version": "3.9.0"
  }
 },
 "nbformat": 4,
 "nbformat_minor": 5
}
